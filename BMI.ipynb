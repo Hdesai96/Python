{
 "cells": [
  {
   "cell_type": "code",
   "execution_count": 9,
   "id": "2c078144-3662-4b92-a530-15a9491ba636",
   "metadata": {},
   "outputs": [
    {
     "name": "stdin",
     "output_type": "stream",
     "text": [
      "Enter your name  harshni\n",
      "enter your weight in pound 102\n",
      "enter your height in inches 115\n"
     ]
    }
   ],
   "source": [
    "name=input(\"Enter your name \")\n",
    "weight=int(input(\"enter your weight in pound\"))\n",
    "height=int(input(\"enter your height in inches\"))"
   ]
  },
  {
   "cell_type": "code",
   "execution_count": 26,
   "id": "9ff9e101-9e83-4f49-97db-f7eb6da5e155",
   "metadata": {},
   "outputs": [
    {
     "name": "stdout",
     "output_type": "stream",
     "text": [
      "you are underweight\n"
     ]
    }
   ],
   "source": [
    "BMI = (weight * 703) / (height * height)\n",
    "\n",
    "if BMI >0:\n",
    "    if (BMI <18.5):\n",
    "       print (\"you are underweight\")\n",
    "    elif (BMI <=24.9):\n",
    "       print(\"you are normal weight\")\n",
    "    elif (BMI <29.9):\n",
    "       print(\"you are over weight\")\n",
    "    elif (BMI <34.9):\n",
    "       print(\"you are obese\")\n",
    "    elif (BMI <39.9):\n",
    "       print(\"you are overly obese\")\n",
    "    elif (BMI >40):\n",
    "       print(\"you are over Morbidly obese\")\n",
    "    else:\n",
    "        print(\"enter valid input\")\n",
    "    "
   ]
  },
  {
   "cell_type": "code",
   "execution_count": null,
   "id": "b6d926f3-fcac-42ba-a757-ecb9d2e3f0af",
   "metadata": {},
   "outputs": [],
   "source": []
  },
  {
   "cell_type": "code",
   "execution_count": null,
   "id": "9e58c90e-221f-44a4-922a-7fa0f58c46fd",
   "metadata": {},
   "outputs": [],
   "source": []
  }
 ],
 "metadata": {
  "kernelspec": {
   "display_name": "Python 3 (ipykernel)",
   "language": "python",
   "name": "python3"
  },
  "language_info": {
   "codemirror_mode": {
    "name": "ipython",
    "version": 3
   },
   "file_extension": ".py",
   "mimetype": "text/x-python",
   "name": "python",
   "nbconvert_exporter": "python",
   "pygments_lexer": "ipython3",
   "version": "3.12.4"
  }
 },
 "nbformat": 4,
 "nbformat_minor": 5
}
