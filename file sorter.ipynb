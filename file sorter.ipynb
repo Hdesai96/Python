{
 "cells": [
  {
   "cell_type": "code",
   "execution_count": 100,
   "id": "1af1fd54-7eab-4f6a-96f1-07925fd1308b",
   "metadata": {},
   "outputs": [],
   "source": [
    "import os,shutil\n"
   ]
  },
  {
   "cell_type": "code",
   "execution_count": 102,
   "id": "48240184-d759-413d-954a-2bf7ad61af56",
   "metadata": {},
   "outputs": [],
   "source": [
    "path=r\"C:/Users/harshni/Pictures/Camera Roll/\""
   ]
  },
  {
   "cell_type": "code",
   "execution_count": 104,
   "id": "48834c1a-8c36-44c8-a030-9203d965340a",
   "metadata": {},
   "outputs": [],
   "source": [
    "file_name=os.listdir(path)"
   ]
  },
  {
   "cell_type": "code",
   "execution_count": 115,
   "id": "b781329f-8873-4f71-b996-51dd199e43e5",
   "metadata": {},
   "outputs": [],
   "source": [
    "folder_names=['Textfiles','CSV files','image files']\n",
    "\n",
    "for loop in range (0,3):\n",
    "    if not os.path.exists(path+folder_names[loop]):\n",
    "       print(path+folder_names[loop])\n",
    "       os.makedirs(path+folder_names[loop])\n",
    "for file in file_name:\n",
    "    if \".csv\" in file and not os.path.exists(path+\"csv files/\"+file):\n",
    "     shutil.move(path+file,path+\"csv files/\"+file)\n",
    "    elif \".txt\" in file and not os.path.exists(path+\"Textfiles/\"+file):\n",
    "     shutil.move(path+file,path+\"txt files/\"+file)\n",
    "    elif \".jpg\" in file and not os.path.exists(path+\"image files/\"+file):\n",
    "     shutil.move(path+file,path+\"image files/\"+file)\n",
    "    "
   ]
  },
  {
   "cell_type": "code",
   "execution_count": 111,
   "id": "aedeaa2e-cc04-413b-93ec-da9698ee21cd",
   "metadata": {},
   "outputs": [],
   "source": []
  },
  {
   "cell_type": "code",
   "execution_count": null,
   "id": "6ad9c70a-2038-4042-affd-e6a2eb3a39b7",
   "metadata": {},
   "outputs": [],
   "source": []
  },
  {
   "cell_type": "code",
   "execution_count": null,
   "id": "03b35df3-5717-4878-be37-d964a05c52f7",
   "metadata": {},
   "outputs": [],
   "source": []
  },
  {
   "cell_type": "code",
   "execution_count": null,
   "id": "d3c105c2-b666-4ca6-863c-5daa8c57f3cb",
   "metadata": {},
   "outputs": [],
   "source": []
  },
  {
   "cell_type": "code",
   "execution_count": null,
   "id": "e541ab26-939d-461d-8fc6-f9ad165ac8cf",
   "metadata": {},
   "outputs": [],
   "source": []
  },
  {
   "cell_type": "code",
   "execution_count": null,
   "id": "9585c922-6c6a-4b7f-8ae7-e474a2559bf8",
   "metadata": {},
   "outputs": [],
   "source": []
  },
  {
   "cell_type": "code",
   "execution_count": null,
   "id": "67b53412-7098-4c26-b4d8-ce8b4675ee91",
   "metadata": {},
   "outputs": [],
   "source": []
  },
  {
   "cell_type": "code",
   "execution_count": null,
   "id": "b2b0f4fc-a8b0-46b0-be2b-7311b00c5c0e",
   "metadata": {},
   "outputs": [],
   "source": []
  },
  {
   "cell_type": "code",
   "execution_count": null,
   "id": "a5e51a20-6de8-4ff8-90c3-b35a2e8cd4eb",
   "metadata": {},
   "outputs": [],
   "source": []
  },
  {
   "cell_type": "code",
   "execution_count": null,
   "id": "dfe2a265-9174-416e-a920-a54e3b49e07e",
   "metadata": {},
   "outputs": [],
   "source": []
  },
  {
   "cell_type": "code",
   "execution_count": null,
   "id": "e2a49782-215d-476c-81e9-f22f4c208b0d",
   "metadata": {},
   "outputs": [],
   "source": []
  },
  {
   "cell_type": "code",
   "execution_count": null,
   "id": "33942022-c58d-4dc4-91ec-32e213b0c4ee",
   "metadata": {},
   "outputs": [],
   "source": []
  }
 ],
 "metadata": {
  "kernelspec": {
   "display_name": "Python 3 (ipykernel)",
   "language": "python",
   "name": "python3"
  },
  "language_info": {
   "codemirror_mode": {
    "name": "ipython",
    "version": 3
   },
   "file_extension": ".py",
   "mimetype": "text/x-python",
   "name": "python",
   "nbconvert_exporter": "python",
   "pygments_lexer": "ipython3",
   "version": "3.12.4"
  }
 },
 "nbformat": 4,
 "nbformat_minor": 5
}
